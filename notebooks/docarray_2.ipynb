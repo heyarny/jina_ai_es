{
 "cells": [
  {
   "cell_type": "markdown",
   "metadata": {},
   "source": [
    "# Index to Elasticsearch\n",
    "\n",
    "DocArray supports Elasticsearch as vector database for indexing."
   ]
  },
  {
   "cell_type": "code",
   "execution_count": 5,
   "metadata": {
    "tags": []
   },
   "outputs": [
    {
     "data": {
      "text/html": [
       "<pre style=\"white-space:pre;overflow-x:auto;line-height:normal;font-family:Menlo,'DejaVu Sans Mono',consolas,'Courier New',monospace\">╭─────────────── Documents Summary ───────────────╮\n",
       "│                                                 │\n",
       "│   Type                   DocumentArrayElastic   │\n",
       "│   Length                 <span style=\"color: #008080; text-decoration-color: #008080; font-weight: bold\">0</span>                      │\n",
       "│   Homogenous Documents   <span style=\"color: #ff0000; text-decoration-color: #ff0000; font-style: italic\">False</span>                  │\n",
       "│   Multimodal dataclass   <span style=\"color: #00ff00; text-decoration-color: #00ff00; font-style: italic\">True</span>                   │\n",
       "│                                                 │\n",
       "╰─────────────────────────────────────────────────╯\n",
       "╭───── <span style=\"font-weight: bold\">DocumentArrayElastic</span> Config ──────╮\n",
       "│                                        │\n",
       "│   n_dim             <span style=\"color: #008080; text-decoration-color: #008080; font-weight: bold\">128</span>                │\n",
       "│   distance          cosine             │\n",
       "│   hosts             <span style=\"color: #0000ff; text-decoration-color: #0000ff; text-decoration: underline\">http://es01:9200</span>   │\n",
       "│   index_name        new_stuff          │\n",
       "│   list_like         <span style=\"color: #00ff00; text-decoration-color: #00ff00; font-style: italic\">True</span>               │\n",
       "│   es_config         <span style=\"font-weight: bold\">{}</span>                 │\n",
       "│   index_text        <span style=\"color: #ff0000; text-decoration-color: #ff0000; font-style: italic\">False</span>              │\n",
       "│   tag_indices       <span style=\"font-weight: bold\">[]</span>                 │\n",
       "│   batch_size        <span style=\"color: #008080; text-decoration-color: #008080; font-weight: bold\">64</span>                 │\n",
       "│   ef_construction   <span style=\"color: #800080; text-decoration-color: #800080; font-style: italic\">None</span>               │\n",
       "│   m                 <span style=\"color: #800080; text-decoration-color: #800080; font-style: italic\">None</span>               │\n",
       "│   columns           <span style=\"font-weight: bold\">{}</span>                 │\n",
       "│   root_id           <span style=\"color: #00ff00; text-decoration-color: #00ff00; font-style: italic\">True</span>               │\n",
       "│                                        │\n",
       "╰────────────────────────────────────────╯\n",
       "</pre>\n"
      ],
      "text/plain": [
       "╭─────────────── Documents Summary ───────────────╮\n",
       "│                                                 │\n",
       "│   Type                   DocumentArrayElastic   │\n",
       "│   Length                 \u001b[1;36m0\u001b[0m                      │\n",
       "│   Homogenous Documents   \u001b[3;91mFalse\u001b[0m                  │\n",
       "│   Multimodal dataclass   \u001b[3;92mTrue\u001b[0m                   │\n",
       "│                                                 │\n",
       "╰─────────────────────────────────────────────────╯\n",
       "╭───── \u001b[1mDocumentArrayElastic\u001b[0m Config ──────╮\n",
       "│                                        │\n",
       "│   n_dim             \u001b[1;36m128\u001b[0m                │\n",
       "│   distance          cosine             │\n",
       "│   hosts             \u001b[4;94mhttp://es01:9200\u001b[0m   │\n",
       "│   index_name        new_stuff          │\n",
       "│   list_like         \u001b[3;92mTrue\u001b[0m               │\n",
       "│   es_config         \u001b[1m{\u001b[0m\u001b[1m}\u001b[0m                 │\n",
       "│   index_text        \u001b[3;91mFalse\u001b[0m              │\n",
       "│   tag_indices       \u001b[1m[\u001b[0m\u001b[1m]\u001b[0m                 │\n",
       "│   batch_size        \u001b[1;36m64\u001b[0m                 │\n",
       "│   ef_construction   \u001b[3;35mNone\u001b[0m               │\n",
       "│   m                 \u001b[3;35mNone\u001b[0m               │\n",
       "│   columns           \u001b[1m{\u001b[0m\u001b[1m}\u001b[0m                 │\n",
       "│   root_id           \u001b[3;92mTrue\u001b[0m               │\n",
       "│                                        │\n",
       "╰────────────────────────────────────────╯\n"
      ]
     },
     "metadata": {},
     "output_type": "display_data"
    }
   ],
   "source": [
    "from docarray import DocumentArray, Document\n",
    "\n",
    "da = DocumentArray(\n",
    "    storage='elasticsearch',\n",
    "    config={'hosts': 'http://es01:9200','index_name': 'new_stuff','n_dim': 128},\n",
    ")\n",
    "da.summary()"
   ]
  },
  {
   "cell_type": "code",
   "execution_count": 19,
   "metadata": {},
   "outputs": [
    {
     "data": {
      "text/html": [
       "<pre style=\"white-space:pre;overflow-x:auto;line-height:normal;font-family:Menlo,'DejaVu Sans Mono',consolas,'Courier New',monospace\">📄 <span style=\"font-weight: bold\">Document</span>: <span style=\"color: #008080; text-decoration-color: #008080\">🐲</span>\n",
       "╭────────────────────────────────────────────────┬─────────────────────────────╮\n",
       "│<span style=\"font-weight: bold\"> Attribute                                      </span>│<span style=\"font-weight: bold\"> Value                       </span>│\n",
       "├────────────────────────────────────────────────┼─────────────────────────────┤\n",
       "│ text                                           │ Hello                       │\n",
       "╰────────────────────────────────────────────────┴─────────────────────────────╯\n",
       "├── 🔶 <span style=\"font-weight: bold\">Matches</span>\n",
       "│   └── 📄 <span style=\"font-weight: bold\">Document</span>: <span style=\"color: #008080; text-decoration-color: #008080\">🐯</span>\n",
       "│       ╭────────────────────────────────────────────────┬─────────────────────────────╮\n",
       "│       │<span style=\"font-weight: bold\"> Attribute                                      </span>│<span style=\"font-weight: bold\"> Value                       </span>│\n",
       "│       ├────────────────────────────────────────────────┼─────────────────────────────┤\n",
       "│       │ adjacency                                      │ 1                           │\n",
       "│       │ text                                           │ bar                         │\n",
       "│       ╰────────────────────────────────────────────────┴─────────────────────────────╯\n",
       "└── 💠 <span style=\"font-weight: bold\">Chunks</span>\n",
       "    └── 📄 <span style=\"font-weight: bold\">Document</span>: <span style=\"color: #008080; text-decoration-color: #008080\">🐦</span>\n",
       "        ╭───────────────────────────────────────────────────┬──────────────────────────╮\n",
       "        │<span style=\"font-weight: bold\"> Attribute                                         </span>│<span style=\"font-weight: bold\"> Value                    </span>│\n",
       "        ├───────────────────────────────────────────────────┼──────────────────────────┤\n",
       "        │ parent_id                                         │ 🐲                       │\n",
       "        │ granularity                                       │ 1                        │\n",
       "        │ text                                              │ World                    │\n",
       "        ╰───────────────────────────────────────────────────┴──────────────────────────╯\n",
       "        └── 💠 <span style=\"font-weight: bold\">Chunks</span>\n",
       "            └── 📄 <span style=\"font-weight: bold\">Document</span>: <span style=\"color: #008080; text-decoration-color: #008080\">🐢</span>\n",
       "                ╭───────────────────────────────────────────────────┬──────────────────────────╮\n",
       "                │<span style=\"font-weight: bold\"> Attribute                                         </span>│<span style=\"font-weight: bold\"> Value                    </span>│\n",
       "                ├───────────────────────────────────────────────────┼──────────────────────────┤\n",
       "                │ parent_id                                         │ 🐦                       │\n",
       "                │ granularity                                       │ 2                        │\n",
       "                │ text                                              │ foo                      │\n",
       "                ╰───────────────────────────────────────────────────┴──────────────────────────╯\n",
       "</pre>\n"
      ],
      "text/plain": [
       "📄 \u001b[1mDocument\u001b[0m: \u001b[36m🐲\u001b[0m\n",
       "╭────────────────────────────────────────────────┬─────────────────────────────╮\n",
       "│\u001b[1m \u001b[0m\u001b[1mAttribute                                     \u001b[0m\u001b[1m \u001b[0m│\u001b[1m \u001b[0m\u001b[1mValue                      \u001b[0m\u001b[1m \u001b[0m│\n",
       "├────────────────────────────────────────────────┼─────────────────────────────┤\n",
       "│ text                                           │ Hello                       │\n",
       "╰────────────────────────────────────────────────┴─────────────────────────────╯\n",
       "├── 🔶 \u001b[1mMatches\u001b[0m\n",
       "│   └── 📄 \u001b[1mDocument\u001b[0m: \u001b[36m🐯\u001b[0m\n",
       "│       ╭────────────────────────────────────────────────┬─────────────────────────────╮\n",
       "│       │\u001b[1m \u001b[0m\u001b[1mAttribute                                     \u001b[0m\u001b[1m \u001b[0m│\u001b[1m \u001b[0m\u001b[1mValue                      \u001b[0m\u001b[1m \u001b[0m│\n",
       "│       ├────────────────────────────────────────────────┼─────────────────────────────┤\n",
       "│       │ adjacency                                      │ 1                           │\n",
       "│       │ text                                           │ bar                         │\n",
       "│       ╰────────────────────────────────────────────────┴─────────────────────────────╯\n",
       "└── 💠 \u001b[1mChunks\u001b[0m\n",
       "    └── 📄 \u001b[1mDocument\u001b[0m: \u001b[36m🐦\u001b[0m\n",
       "        ╭───────────────────────────────────────────────────┬──────────────────────────╮\n",
       "        │\u001b[1m \u001b[0m\u001b[1mAttribute                                        \u001b[0m\u001b[1m \u001b[0m│\u001b[1m \u001b[0m\u001b[1mValue                   \u001b[0m\u001b[1m \u001b[0m│\n",
       "        ├───────────────────────────────────────────────────┼──────────────────────────┤\n",
       "        │ parent_id                                         │ 🐲                       │\n",
       "        │ granularity                                       │ 1                        │\n",
       "        │ text                                              │ World                    │\n",
       "        ╰───────────────────────────────────────────────────┴──────────────────────────╯\n",
       "        └── 💠 \u001b[1mChunks\u001b[0m\n",
       "            └── 📄 \u001b[1mDocument\u001b[0m: \u001b[36m🐢\u001b[0m\n",
       "                ╭───────────────────────────────────────────────────┬──────────────────────────╮\n",
       "                │\u001b[1m \u001b[0m\u001b[1mAttribute                                        \u001b[0m\u001b[1m \u001b[0m│\u001b[1m \u001b[0m\u001b[1mValue                   \u001b[0m\u001b[1m \u001b[0m│\n",
       "                ├───────────────────────────────────────────────────┼──────────────────────────┤\n",
       "                │ parent_id                                         │ 🐦                       │\n",
       "                │ granularity                                       │ 2                        │\n",
       "                │ text                                              │ foo                      │\n",
       "                ╰───────────────────────────────────────────────────┴──────────────────────────╯\n"
      ]
     },
     "metadata": {},
     "output_type": "display_data"
    },
    {
     "name": "stdout",
     "output_type": "stream",
     "text": [
      "None\n"
     ]
    }
   ],
   "source": [
    "#Visualize documents\n",
    "import numpy as np\n",
    "from docarray import Document\n",
    "\n",
    "d0 = Document(id='🐲', text=\"Hello\")\n",
    "d1 = Document(id='🐦', text=\"World\")\n",
    "d2 = Document(id='🐢', text=\"foo\")\n",
    "d3 = Document(id='🐯', text=\"bar\")\n",
    "\n",
    "d0.chunks.append(d1)\n",
    "d0.chunks[0].chunks.append(d2)\n",
    "d0.matches.append(d3)\n",
    "print(d0.summary())"
   ]
  },
  {
   "cell_type": "code",
   "execution_count": 20,
   "metadata": {},
   "outputs": [
    {
     "data": {
      "text/html": [
       "<pre style=\"white-space:pre;overflow-x:auto;line-height:normal;font-family:Menlo,'DejaVu Sans Mono',consolas,'Courier New',monospace\">╭──────────────────────── Documents Summary ────────────────────────╮\n",
       "│                                                                   │\n",
       "│   Type                      DocumentArrayElastic                  │\n",
       "│   Length                    <span style=\"color: #008080; text-decoration-color: #008080; font-weight: bold\">1</span>                                     │\n",
       "│   Homogenous Documents      <span style=\"color: #00ff00; text-decoration-color: #00ff00; font-style: italic\">True</span>                                  │\n",
       "│   Has nested Documents in   <span style=\"font-weight: bold\">(</span><span style=\"color: #008000; text-decoration-color: #008000\">'chunks'</span>, <span style=\"color: #008000; text-decoration-color: #008000\">'matches'</span><span style=\"font-weight: bold\">)</span>                 │\n",
       "│   Common Attributes         <span style=\"font-weight: bold\">(</span><span style=\"color: #008000; text-decoration-color: #008000\">'id'</span>, <span style=\"color: #008000; text-decoration-color: #008000\">'text'</span>, <span style=\"color: #008000; text-decoration-color: #008000\">'chunks'</span>, <span style=\"color: #008000; text-decoration-color: #008000\">'matches'</span><span style=\"font-weight: bold\">)</span>   │\n",
       "│   Multimodal dataclass      <span style=\"color: #ff0000; text-decoration-color: #ff0000; font-style: italic\">False</span>                                 │\n",
       "│                                                                   │\n",
       "╰───────────────────────────────────────────────────────────────────╯\n",
       "╭──────────────────────── Attributes Summary ────────────────────────╮\n",
       "│                                                                    │\n",
       "│  <span style=\"font-weight: bold\"> Attribute </span> <span style=\"font-weight: bold\"> Data type       </span> <span style=\"font-weight: bold\"> #Unique values </span> <span style=\"font-weight: bold\"> Has empty value </span>  │\n",
       "│  ────────────────────────────────────────────────────────────────  │\n",
       "│   chunks      <span style=\"font-weight: bold\">(</span><span style=\"color: #008000; text-decoration-color: #008000\">'ChunkArray'</span>,<span style=\"font-weight: bold\">)</span>   <span style=\"color: #008080; text-decoration-color: #008080; font-weight: bold\">1</span>                <span style=\"color: #ff0000; text-decoration-color: #ff0000; font-style: italic\">False</span>             │\n",
       "│   id          <span style=\"font-weight: bold\">(</span><span style=\"color: #008000; text-decoration-color: #008000\">'str'</span>,<span style=\"font-weight: bold\">)</span>          <span style=\"color: #008080; text-decoration-color: #008080; font-weight: bold\">1</span>                <span style=\"color: #ff0000; text-decoration-color: #ff0000; font-style: italic\">False</span>             │\n",
       "│   matches     <span style=\"font-weight: bold\">(</span><span style=\"color: #008000; text-decoration-color: #008000\">'MatchArray'</span>,<span style=\"font-weight: bold\">)</span>   <span style=\"color: #008080; text-decoration-color: #008080; font-weight: bold\">1</span>                <span style=\"color: #ff0000; text-decoration-color: #ff0000; font-style: italic\">False</span>             │\n",
       "│   text        <span style=\"font-weight: bold\">(</span><span style=\"color: #008000; text-decoration-color: #008000\">'str'</span>,<span style=\"font-weight: bold\">)</span>          <span style=\"color: #008080; text-decoration-color: #008080; font-weight: bold\">1</span>                <span style=\"color: #ff0000; text-decoration-color: #ff0000; font-style: italic\">False</span>             │\n",
       "│                                                                    │\n",
       "╰────────────────────────────────────────────────────────────────────╯\n",
       "╭───── <span style=\"font-weight: bold\">DocumentArrayElastic</span> Config ──────╮\n",
       "│                                        │\n",
       "│   n_dim             <span style=\"color: #008080; text-decoration-color: #008080; font-weight: bold\">2</span>                  │\n",
       "│   distance          cosine             │\n",
       "│   hosts             <span style=\"color: #0000ff; text-decoration-color: #0000ff; text-decoration: underline\">http://es01:9200</span>   │\n",
       "│   index_name        chunks_test        │\n",
       "│   list_like         <span style=\"color: #00ff00; text-decoration-color: #00ff00; font-style: italic\">True</span>               │\n",
       "│   es_config         <span style=\"font-weight: bold\">{}</span>                 │\n",
       "│   index_text        <span style=\"color: #ff0000; text-decoration-color: #ff0000; font-style: italic\">False</span>              │\n",
       "│   tag_indices       <span style=\"font-weight: bold\">[]</span>                 │\n",
       "│   batch_size        <span style=\"color: #008080; text-decoration-color: #008080; font-weight: bold\">64</span>                 │\n",
       "│   ef_construction   <span style=\"color: #800080; text-decoration-color: #800080; font-style: italic\">None</span>               │\n",
       "│   m                 <span style=\"color: #800080; text-decoration-color: #800080; font-style: italic\">None</span>               │\n",
       "│   columns           <span style=\"font-weight: bold\">{}</span>                 │\n",
       "│   root_id           <span style=\"color: #00ff00; text-decoration-color: #00ff00; font-style: italic\">True</span>               │\n",
       "│                                        │\n",
       "╰────────────────────────────────────────╯\n",
       "</pre>\n"
      ],
      "text/plain": [
       "╭──────────────────────── Documents Summary ────────────────────────╮\n",
       "│                                                                   │\n",
       "│   Type                      DocumentArrayElastic                  │\n",
       "│   Length                    \u001b[1;36m1\u001b[0m                                     │\n",
       "│   Homogenous Documents      \u001b[3;92mTrue\u001b[0m                                  │\n",
       "│   Has nested Documents in   \u001b[1m(\u001b[0m\u001b[32m'chunks'\u001b[0m, \u001b[32m'matches'\u001b[0m\u001b[1m)\u001b[0m                 │\n",
       "│   Common Attributes         \u001b[1m(\u001b[0m\u001b[32m'id'\u001b[0m, \u001b[32m'text'\u001b[0m, \u001b[32m'chunks'\u001b[0m, \u001b[32m'matches'\u001b[0m\u001b[1m)\u001b[0m   │\n",
       "│   Multimodal dataclass      \u001b[3;91mFalse\u001b[0m                                 │\n",
       "│                                                                   │\n",
       "╰───────────────────────────────────────────────────────────────────╯\n",
       "╭──────────────────────── Attributes Summary ────────────────────────╮\n",
       "│                                                                    │\n",
       "│  \u001b[1m \u001b[0m\u001b[1mAttribute\u001b[0m\u001b[1m \u001b[0m \u001b[1m \u001b[0m\u001b[1mData type      \u001b[0m\u001b[1m \u001b[0m \u001b[1m \u001b[0m\u001b[1m#Unique values\u001b[0m\u001b[1m \u001b[0m \u001b[1m \u001b[0m\u001b[1mHas empty value\u001b[0m\u001b[1m \u001b[0m  │\n",
       "│  ────────────────────────────────────────────────────────────────  │\n",
       "│   chunks      \u001b[1m(\u001b[0m\u001b[32m'ChunkArray'\u001b[0m,\u001b[1m)\u001b[0m   \u001b[1;36m1\u001b[0m                \u001b[3;91mFalse\u001b[0m             │\n",
       "│   id          \u001b[1m(\u001b[0m\u001b[32m'str'\u001b[0m,\u001b[1m)\u001b[0m          \u001b[1;36m1\u001b[0m                \u001b[3;91mFalse\u001b[0m             │\n",
       "│   matches     \u001b[1m(\u001b[0m\u001b[32m'MatchArray'\u001b[0m,\u001b[1m)\u001b[0m   \u001b[1;36m1\u001b[0m                \u001b[3;91mFalse\u001b[0m             │\n",
       "│   text        \u001b[1m(\u001b[0m\u001b[32m'str'\u001b[0m,\u001b[1m)\u001b[0m          \u001b[1;36m1\u001b[0m                \u001b[3;91mFalse\u001b[0m             │\n",
       "│                                                                    │\n",
       "╰────────────────────────────────────────────────────────────────────╯\n",
       "╭───── \u001b[1mDocumentArrayElastic\u001b[0m Config ──────╮\n",
       "│                                        │\n",
       "│   n_dim             \u001b[1;36m2\u001b[0m                  │\n",
       "│   distance          cosine             │\n",
       "│   hosts             \u001b[4;94mhttp://es01:9200\u001b[0m   │\n",
       "│   index_name        chunks_test        │\n",
       "│   list_like         \u001b[3;92mTrue\u001b[0m               │\n",
       "│   es_config         \u001b[1m{\u001b[0m\u001b[1m}\u001b[0m                 │\n",
       "│   index_text        \u001b[3;91mFalse\u001b[0m              │\n",
       "│   tag_indices       \u001b[1m[\u001b[0m\u001b[1m]\u001b[0m                 │\n",
       "│   batch_size        \u001b[1;36m64\u001b[0m                 │\n",
       "│   ef_construction   \u001b[3;35mNone\u001b[0m               │\n",
       "│   m                 \u001b[3;35mNone\u001b[0m               │\n",
       "│   columns           \u001b[1m{\u001b[0m\u001b[1m}\u001b[0m                 │\n",
       "│   root_id           \u001b[3;92mTrue\u001b[0m               │\n",
       "│                                        │\n",
       "╰────────────────────────────────────────╯\n"
      ]
     },
     "metadata": {},
     "output_type": "display_data"
    }
   ],
   "source": [
    "from docarray import DocumentArray\n",
    "\n",
    "DocumentArray(\n",
    "    [d0],\n",
    "    storage='elasticsearch',\n",
    "    config={'hosts':'http://es01:9200', 'index_name':'chunks_test', 'n_dim':2},\n",
    ")\n"
   ]
  },
  {
   "cell_type": "code",
   "execution_count": 15,
   "metadata": {},
   "outputs": [
    {
     "data": {
      "text/html": [
       "<pre style=\"white-space:pre;overflow-x:auto;line-height:normal;font-family:Menlo,'DejaVu Sans Mono',consolas,'Courier New',monospace\">╭─────────────── Documents Summary ───────────────╮\n",
       "│                                                 │\n",
       "│   Type                   DocumentArrayElastic   │\n",
       "│   Length                 <span style=\"color: #008080; text-decoration-color: #008080; font-weight: bold\">1</span>                      │\n",
       "│   Homogenous Documents   <span style=\"color: #ff0000; text-decoration-color: #ff0000; font-style: italic\">False</span>                  │\n",
       "│   Multimodal dataclass   <span style=\"color: #00ff00; text-decoration-color: #00ff00; font-style: italic\">True</span>                   │\n",
       "│                                                 │\n",
       "╰─────────────────────────────────────────────────╯\n",
       "╭───── <span style=\"font-weight: bold\">DocumentArrayElastic</span> Config ──────╮\n",
       "│                                        │\n",
       "│   n_dim             <span style=\"color: #008080; text-decoration-color: #008080; font-weight: bold\">2</span>                  │\n",
       "│   distance          cosine             │\n",
       "│   hosts             <span style=\"color: #0000ff; text-decoration-color: #0000ff; text-decoration: underline\">http://es01:9200</span>   │\n",
       "│   index_name        chunks_test        │\n",
       "│   list_like         <span style=\"color: #00ff00; text-decoration-color: #00ff00; font-style: italic\">True</span>               │\n",
       "│   es_config         <span style=\"font-weight: bold\">{}</span>                 │\n",
       "│   index_text        <span style=\"color: #ff0000; text-decoration-color: #ff0000; font-style: italic\">False</span>              │\n",
       "│   tag_indices       <span style=\"font-weight: bold\">[]</span>                 │\n",
       "│   batch_size        <span style=\"color: #008080; text-decoration-color: #008080; font-weight: bold\">64</span>                 │\n",
       "│   ef_construction   <span style=\"color: #800080; text-decoration-color: #800080; font-style: italic\">None</span>               │\n",
       "│   m                 <span style=\"color: #800080; text-decoration-color: #800080; font-style: italic\">None</span>               │\n",
       "│   columns           <span style=\"font-weight: bold\">{}</span>                 │\n",
       "│   root_id           <span style=\"color: #00ff00; text-decoration-color: #00ff00; font-style: italic\">True</span>               │\n",
       "│                                        │\n",
       "╰────────────────────────────────────────╯\n",
       "</pre>\n"
      ],
      "text/plain": [
       "╭─────────────── Documents Summary ───────────────╮\n",
       "│                                                 │\n",
       "│   Type                   DocumentArrayElastic   │\n",
       "│   Length                 \u001b[1;36m1\u001b[0m                      │\n",
       "│   Homogenous Documents   \u001b[3;91mFalse\u001b[0m                  │\n",
       "│   Multimodal dataclass   \u001b[3;92mTrue\u001b[0m                   │\n",
       "│                                                 │\n",
       "╰─────────────────────────────────────────────────╯\n",
       "╭───── \u001b[1mDocumentArrayElastic\u001b[0m Config ──────╮\n",
       "│                                        │\n",
       "│   n_dim             \u001b[1;36m2\u001b[0m                  │\n",
       "│   distance          cosine             │\n",
       "│   hosts             \u001b[4;94mhttp://es01:9200\u001b[0m   │\n",
       "│   index_name        chunks_test        │\n",
       "│   list_like         \u001b[3;92mTrue\u001b[0m               │\n",
       "│   es_config         \u001b[1m{\u001b[0m\u001b[1m}\u001b[0m                 │\n",
       "│   index_text        \u001b[3;91mFalse\u001b[0m              │\n",
       "│   tag_indices       \u001b[1m[\u001b[0m\u001b[1m]\u001b[0m                 │\n",
       "│   batch_size        \u001b[1;36m64\u001b[0m                 │\n",
       "│   ef_construction   \u001b[3;35mNone\u001b[0m               │\n",
       "│   m                 \u001b[3;35mNone\u001b[0m               │\n",
       "│   columns           \u001b[1m{\u001b[0m\u001b[1m}\u001b[0m                 │\n",
       "│   root_id           \u001b[3;92mTrue\u001b[0m               │\n",
       "│                                        │\n",
       "╰────────────────────────────────────────╯\n"
      ]
     },
     "metadata": {},
     "output_type": "display_data"
    }
   ],
   "source": [
    "from docarray import DocumentArray\n",
    "\n",
    "d_new = DocumentArray(\n",
    "    storage='elasticsearch',\n",
    "    config={'hosts': 'http://es01:9200','index_name': 'chunks_test','n_dim': 2},\n",
    ")\n",
    "\n",
    "d_new.summary()"
   ]
  },
  {
   "cell_type": "code",
   "execution_count": 18,
   "metadata": {},
   "outputs": [
    {
     "data": {
      "text/plain": [
       "'[]'"
      ]
     },
     "execution_count": 18,
     "metadata": {},
     "output_type": "execute_result"
    }
   ],
   "source": [
    "d_new.to_json()"
   ]
  }
 ],
 "metadata": {
  "kernelspec": {
   "display_name": "Python 3",
   "language": "python",
   "name": "python3"
  },
  "language_info": {
   "codemirror_mode": {
    "name": "ipython",
    "version": 3
   },
   "file_extension": ".py",
   "mimetype": "text/x-python",
   "name": "python",
   "nbconvert_exporter": "python",
   "pygments_lexer": "ipython3",
   "version": "3.10.12"
  },
  "orig_nbformat": 4,
  "vscode": {
   "interpreter": {
    "hash": "31f2aee4e71d21fbe5cf8b01ff0e069b9275f58929596ceb00d14d90e3e16cd6"
   }
  }
 },
 "nbformat": 4,
 "nbformat_minor": 2
}
