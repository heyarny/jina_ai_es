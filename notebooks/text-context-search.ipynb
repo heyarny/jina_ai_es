{
 "cells": [
  {
   "cell_type": "markdown",
   "metadata": {},
   "source": [
    "# Text search engine with DocArray\n",
    "\n",
    "In this notebook, we use [DocArray](https://docarray.jina.ai/) to show how you can set up a simple text search.\n",
    "\n",
    "First, let’s create the DocumentArray instance:"
   ]
  },
  {
   "cell_type": "code",
   "execution_count": null,
   "metadata": {},
   "outputs": [],
   "source": [
    "from docarray import Document, DocumentArray\n",
    "\n",
    "da = DocumentArray(\n",
    "    storage='elasticsearch',\n",
    "    config={'hosts': 'http://es01:9200',\n",
    "            'index_name': 'text_search', 'n_dim': 768},\n",
    ")"
   ]
  },
  {
   "cell_type": "markdown",
   "metadata": {},
   "source": [
    "Or without datastore:"
   ]
  },
  {
   "cell_type": "code",
   "execution_count": null,
   "metadata": {},
   "outputs": [],
   "source": [
    "from docarray import Document, DocumentArray\n",
    "\n",
    "da = DocumentArray()"
   ]
  },
  {
   "cell_type": "markdown",
   "metadata": {},
   "source": [
    "Then, we can index some Documents:"
   ]
  },
  {
   "cell_type": "code",
   "execution_count": null,
   "metadata": {},
   "outputs": [],
   "source": [
    "from docarray import Document\n",
    "\n",
    "with da:\n",
    "    da.extend(\n",
    "        [\n",
    "            Document(text='Das rote Auto steht neben dem Baum.'),\n",
    "            Document(text='Das Haus neben der Strasse ist blau angemalt.'),\n",
    "            Document(text='Nicht weit vom Baum gibt es einen See voller Fische.'),\n",
    "            Document(text='Der Barsch schwimmt im Bodensee.'),\n",
    "            Document(text='Das Segelschiff auf dem Bodensee hat einen gelben Segel.'),\n",
    "            Document(text='Im Bodensee gibt es keine Korallen.'),\n",
    "            Document(text='Im Meer gibt es sehr viele Korallen.'),\n",
    "            Document(text='She is lying on the bed and watching Youtube.'),\n",
    "            Document(text='The cat is playing with a mouse.'),\n",
    "        ]\n",
    "    )\n"
   ]
  },
  {
   "cell_type": "markdown",
   "metadata": {},
   "source": [
    "Or single words (experiment):"
   ]
  },
  {
   "cell_type": "code",
   "execution_count": null,
   "metadata": {},
   "outputs": [],
   "source": [
    "from docarray import Document\n",
    "\n",
    "with da:\n",
    "    da.extend(\n",
    "        [\n",
    "            Document(text='Schokolade'),\n",
    "            Document(text='Banane'),\n",
    "            Document(text='Apfel'),\n",
    "            Document(text='Zitrone'),\n",
    "            Document(text='Mandarine'),\n",
    "            Document(text='T-Shirt'),\n",
    "            Document(text='Autospielzeug'),\n",
    "        ]\n",
    "    )\n"
   ]
  },
  {
   "cell_type": "markdown",
   "metadata": {},
   "source": [
    "Now, we can generate embeddings inside the database using the BERT model:"
   ]
  },
  {
   "cell_type": "code",
   "execution_count": null,
   "metadata": {},
   "outputs": [],
   "source": [
    "from transformers import AutoModel, AutoTokenizer\n",
    "\n",
    "#tokenizer = AutoTokenizer.from_pretrained('bert-base-multilingual-uncased')\n",
    "#model = AutoModel.from_pretrained('bert-base-multilingual-uncased')\n",
    "\n",
    "#tokenizer = AutoTokenizer.from_pretrained('sentence-transformers/all-mpnet-base-v2')\n",
    "#model = AutoModel.from_pretrained('sentence-transformers/all-mpnet-base-v2')\n",
    "\n",
    "# Using BERT based models for best semantic search\n",
    "# https://www.sbert.net/docs/pretrained_models.html#multi-lingual-models\n",
    "tokenizer = AutoTokenizer.from_pretrained('sentence-transformers/paraphrase-multilingual-mpnet-base-v2')\n",
    "model = AutoModel.from_pretrained('sentence-transformers/paraphrase-multilingual-mpnet-base-v2')\n",
    "\n",
    "def collate_fn(da):\n",
    "    return tokenizer(da.texts, truncation=True, padding=True, return_tensors='pt')\n",
    "\n",
    "da.embed(model, collate_fn=collate_fn)\n"
   ]
  },
  {
   "cell_type": "markdown",
   "metadata": {},
   "source": [
    "Finally, we can query the database and print the results:"
   ]
  },
  {
   "cell_type": "code",
   "execution_count": null,
   "metadata": {},
   "outputs": [],
   "source": [
    "results = da.find(\n",
    "    DocumentArray([Document(text='Wer spielt mit der Maus?')]).embed(\n",
    "        model, collate_fn=collate_fn\n",
    "    ),\n",
    "    limit=3,\n",
    ")\n",
    "\n",
    "for doc in results[0]:\n",
    "    print(doc.scores['cosine'].value, doc.text)\n"
   ]
  }
 ],
 "metadata": {
  "interpreter": {
   "hash": "3579617d9edeca879b1c2e9436d575a3656d7c05fdfb8572acef0a8c9e2fafea"
  },
  "kernelspec": {
   "display_name": "Python 3 (ipykernel)",
   "language": "python",
   "name": "python3"
  },
  "language_info": {
   "codemirror_mode": {
    "name": "ipython",
    "version": 3
   },
   "file_extension": ".py",
   "mimetype": "text/x-python",
   "name": "python",
   "nbconvert_exporter": "python",
   "pygments_lexer": "ipython3",
   "version": "3.10.12"
  }
 },
 "nbformat": 4,
 "nbformat_minor": 2
}
