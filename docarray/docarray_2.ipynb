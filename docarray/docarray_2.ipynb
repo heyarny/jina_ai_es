{
 "cells": [
  {
   "cell_type": "markdown",
   "metadata": {},
   "source": [
    "# Index to Elasticsearch\n",
    "\n",
    "DocArray supports Elasticsearch as vector database for indexing."
   ]
  },
  {
   "cell_type": "code",
   "execution_count": 5,
   "metadata": {
    "tags": []
   },
   "outputs": [
    {
     "data": {
      "text/html": [
       "<pre style=\"white-space:pre;overflow-x:auto;line-height:normal;font-family:Menlo,'DejaVu Sans Mono',consolas,'Courier New',monospace\">╭─────────────── Documents Summary ───────────────╮\n",
       "│                                                 │\n",
       "│   Type                   DocumentArrayElastic   │\n",
       "│   Length                 <span style=\"color: #008080; text-decoration-color: #008080; font-weight: bold\">0</span>                      │\n",
       "│   Homogenous Documents   <span style=\"color: #ff0000; text-decoration-color: #ff0000; font-style: italic\">False</span>                  │\n",
       "│   Multimodal dataclass   <span style=\"color: #00ff00; text-decoration-color: #00ff00; font-style: italic\">True</span>                   │\n",
       "│                                                 │\n",
       "╰─────────────────────────────────────────────────╯\n",
       "╭───── <span style=\"font-weight: bold\">DocumentArrayElastic</span> Config ──────╮\n",
       "│                                        │\n",
       "│   n_dim             <span style=\"color: #008080; text-decoration-color: #008080; font-weight: bold\">128</span>                │\n",
       "│   distance          cosine             │\n",
       "│   hosts             <span style=\"color: #0000ff; text-decoration-color: #0000ff; text-decoration: underline\">http://es01:9200</span>   │\n",
       "│   index_name        new_stuff          │\n",
       "│   list_like         <span style=\"color: #00ff00; text-decoration-color: #00ff00; font-style: italic\">True</span>               │\n",
       "│   es_config         <span style=\"font-weight: bold\">{}</span>                 │\n",
       "│   index_text        <span style=\"color: #ff0000; text-decoration-color: #ff0000; font-style: italic\">False</span>              │\n",
       "│   tag_indices       <span style=\"font-weight: bold\">[]</span>                 │\n",
       "│   batch_size        <span style=\"color: #008080; text-decoration-color: #008080; font-weight: bold\">64</span>                 │\n",
       "│   ef_construction   <span style=\"color: #800080; text-decoration-color: #800080; font-style: italic\">None</span>               │\n",
       "│   m                 <span style=\"color: #800080; text-decoration-color: #800080; font-style: italic\">None</span>               │\n",
       "│   columns           <span style=\"font-weight: bold\">{}</span>                 │\n",
       "│   root_id           <span style=\"color: #00ff00; text-decoration-color: #00ff00; font-style: italic\">True</span>               │\n",
       "│                                        │\n",
       "╰────────────────────────────────────────╯\n",
       "</pre>\n"
      ],
      "text/plain": [
       "╭─────────────── Documents Summary ───────────────╮\n",
       "│                                                 │\n",
       "│   Type                   DocumentArrayElastic   │\n",
       "│   Length                 \u001b[1;36m0\u001b[0m                      │\n",
       "│   Homogenous Documents   \u001b[3;91mFalse\u001b[0m                  │\n",
       "│   Multimodal dataclass   \u001b[3;92mTrue\u001b[0m                   │\n",
       "│                                                 │\n",
       "╰─────────────────────────────────────────────────╯\n",
       "╭───── \u001b[1mDocumentArrayElastic\u001b[0m Config ──────╮\n",
       "│                                        │\n",
       "│   n_dim             \u001b[1;36m128\u001b[0m                │\n",
       "│   distance          cosine             │\n",
       "│   hosts             \u001b[4;94mhttp://es01:9200\u001b[0m   │\n",
       "│   index_name        new_stuff          │\n",
       "│   list_like         \u001b[3;92mTrue\u001b[0m               │\n",
       "│   es_config         \u001b[1m{\u001b[0m\u001b[1m}\u001b[0m                 │\n",
       "│   index_text        \u001b[3;91mFalse\u001b[0m              │\n",
       "│   tag_indices       \u001b[1m[\u001b[0m\u001b[1m]\u001b[0m                 │\n",
       "│   batch_size        \u001b[1;36m64\u001b[0m                 │\n",
       "│   ef_construction   \u001b[3;35mNone\u001b[0m               │\n",
       "│   m                 \u001b[3;35mNone\u001b[0m               │\n",
       "│   columns           \u001b[1m{\u001b[0m\u001b[1m}\u001b[0m                 │\n",
       "│   root_id           \u001b[3;92mTrue\u001b[0m               │\n",
       "│                                        │\n",
       "╰────────────────────────────────────────╯\n"
      ]
     },
     "metadata": {},
     "output_type": "display_data"
    }
   ],
   "source": [
    "from docarray import DocumentArray, Document\n",
    "\n",
    "da = DocumentArray(\n",
    "    storage='elasticsearch',\n",
    "    config={'hosts': 'http://es01:9200','index_name': 'new_stuff','n_dim': 128},\n",
    ")\n",
    "da.summary()"
   ]
  }
 ],
 "metadata": {
  "kernelspec": {
   "display_name": "Python 3",
   "language": "python",
   "name": "python3"
  },
  "language_info": {
   "codemirror_mode": {
    "name": "ipython",
    "version": 3
   },
   "file_extension": ".py",
   "mimetype": "text/x-python",
   "name": "python",
   "nbconvert_exporter": "python",
   "pygments_lexer": "ipython3",
   "version": "3.10.12"
  },
  "orig_nbformat": 4,
  "vscode": {
   "interpreter": {
    "hash": "31f2aee4e71d21fbe5cf8b01ff0e069b9275f58929596ceb00d14d90e3e16cd6"
   }
  }
 },
 "nbformat": 4,
 "nbformat_minor": 2
}
